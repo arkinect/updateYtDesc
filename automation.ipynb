{
 "cells": [
  {
   "cell_type": "code",
   "execution_count": 1,
   "metadata": {},
   "outputs": [],
   "source": [
    "### imports\n",
    "import pandas as pd\n",
    "from googleapiclient.discovery import build\n",
    "from google_auth_oauthlib.flow import InstalledAppFlow\n",
    "import os\n",
    "from dotenv import load_dotenv"
   ]
  },
  {
   "cell_type": "code",
   "execution_count": 2,
   "metadata": {},
   "outputs": [],
   "source": [
    "### setup\n",
    "load_dotenv()\n",
    "client_secret_file = os.getenv(\"CLIENT_SECRET_FILE\")\n",
    "\n",
    "excelFilePath = \"Card Mentions & Referral Links.xlsx\"\n",
    "excelNewLinkPageName = \"Referrals\"\n",
    "excelLegacyVideosPageName = \"Videos\""
   ]
  },
  {
   "cell_type": "code",
   "execution_count": null,
   "metadata": {},
   "outputs": [
    {
     "name": "stdout",
     "output_type": "stream",
     "text": [
      "Please visit this URL to authorize this application: https://accounts.google.com/o/oauth2/auth?response_type=code&client_id=862595706076-6uhl6pp6562616vrn8eeth2fbml431h9.apps.googleusercontent.com&redirect_uri=http%3A%2F%2Flocalhost%3A53098%2F&scope=https%3A%2F%2Fwww.googleapis.com%2Fauth%2Fyoutube.force-ssl&state=fbmGAdv4Tj8WFzDX27HH3MpmUtquhk&access_type=offline\n"
     ]
    }
   ],
   "source": [
    "### yt authentification\n",
    "\n",
    "client_secret_file = os.getenv(\"CLIENT_SECRET_FILE\")\n",
    "scopes = [\"https://www.googleapis.com/auth/youtube.force-ssl\"]\n",
    "flow = InstalledAppFlow.from_client_secrets_file(client_secret_file, scopes=scopes)\n",
    "credentials = flow.run_local_server(port=0)\n",
    "youtube = build(\"youtube\", \"v3\", credentials=credentials)"
   ]
  },
  {
   "cell_type": "code",
   "execution_count": null,
   "metadata": {},
   "outputs": [],
   "source": [
    "### excel to pd\n",
    "\n",
    "videosDf = pd.read_excel(excelFilePath, sheet_name=excelLegacyVideosPageName)\n",
    "ccLinksDF = pd.read_excel(excelFilePath, sheet_name=excelNewLinkPageName)"
   ]
  },
  {
   "cell_type": "code",
   "execution_count": null,
   "metadata": {},
   "outputs": [],
   "source": [
    "def update_video_description(video_id, old_link, new_link):\n",
    "    # Get the existing video details\n",
    "    video_response = youtube.videos().list(\n",
    "        part=\"snippet\",\n",
    "        id=video_id\n",
    "    ).execute()\n",
    "\n",
    "    if video_response[\"items\"]:\n",
    "        # Extract the current description\n",
    "        video_snippet = video_response[\"items\"][0][\"snippet\"]\n",
    "        current_description = video_snippet[\"description\"]\n",
    "\n",
    "        # Replace old link with new link in the description\n",
    "        updated_description = current_description.replace(old_link, new_link)\n",
    "\n",
    "        # Update the video description only if there's a change\n",
    "        video_snippet[\"description\"] = updated_description\n",
    "        youtube.videos().update(\n",
    "            part=\"snippet\",\n",
    "            body={\n",
    "                \"id\": video_id,\n",
    "                \"snippet\": video_snippet\n",
    "            }\n",
    "        ).execute()\n",
    "        print(f\"Updated video {video_id} by replacing the old link with the new referral link.\")\n"
   ]
  },
  {
   "cell_type": "code",
   "execution_count": null,
   "metadata": {},
   "outputs": [],
   "source": [
    "for index, video_row in videosDf.iterrows():\n",
    "    video_id = video_row[\"Video ID\"]  # Assuming you have a column for video IDs\n",
    "    \n",
    "    # Check each credit card column for True values\n",
    "    for cc_name, needs_link in video_row.items():\n",
    "        if needs_link:  # Only proceed if True\n",
    "            # Find the old and new referral links from the referral_links_df\n",
    "            referral_link_row = ccLinksDF[ccLinksDF['Credit Card Name'] == cc_name]\n",
    "            \n",
    "            if not referral_link_row.empty:\n",
    "                old_link = referral_link_row[\"Old Link\"].values[0]\n",
    "                new_link = referral_link_row[\"New Link\"].values[0]\n",
    "\n",
    "                if old_link != new_link:\n",
    "                    # Update the video description if the old link is found\n",
    "                    update_video_description(video_id, old_link, new_link)"
   ]
  }
 ],
 "metadata": {
  "kernelspec": {
   "display_name": "venv",
   "language": "python",
   "name": "python3"
  },
  "language_info": {
   "codemirror_mode": {
    "name": "ipython",
    "version": 3
   },
   "file_extension": ".py",
   "mimetype": "text/x-python",
   "name": "python",
   "nbconvert_exporter": "python",
   "pygments_lexer": "ipython3",
   "version": "3.12.5"
  }
 },
 "nbformat": 4,
 "nbformat_minor": 2
}
